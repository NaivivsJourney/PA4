{
 "cells": [
  {
   "cell_type": "markdown",
   "metadata": {},
   "source": [
    "## Python Assignment 4\n",
    "### Author: Naiviv\n",
    "#### Python Crash Course\n",
    "##### Fall 2023"
   ]
  },
  {
   "cell_type": "code",
   "execution_count": 2,
   "metadata": {},
   "outputs": [],
   "source": [
    "grades = [100, 95, 90, 80, 100]"
   ]
  },
  {
   "cell_type": "code",
   "execution_count": 3,
   "metadata": {},
   "outputs": [
    {
     "name": "stdout",
     "output_type": "stream",
     "text": [
      "465\n"
     ]
    }
   ],
   "source": [
    "total = sum (grades)\n",
    "print(total)\n"
   ]
  },
  {
   "cell_type": "code",
   "execution_count": 4,
   "metadata": {},
   "outputs": [
    {
     "name": "stdout",
     "output_type": "stream",
     "text": [
      "93.0\n"
     ]
    }
   ],
   "source": [
    "average = total / 5\n",
    "print (average)"
   ]
  },
  {
   "cell_type": "code",
   "execution_count": 5,
   "metadata": {},
   "outputs": [
    {
     "name": "stdout",
     "output_type": "stream",
     "text": [
      "A\n"
     ]
    }
   ],
   "source": [
    "if average >= 90 and average <= 100:\n",
    "  print(\"A\")\n",
    "elif average >= 80 and average < 90:\n",
    "  print (\"B\")\n",
    "elif average >= 70 and average < 80:\n",
    "  print (\"C\")\n",
    "elif average >= 60 and average < 70:\n",
    "  print (\"D\")\n",
    "elif average >= 0 and average < 60:\n",
    "  print (\"F\")\n"
   ]
  },
  {
   "cell_type": "code",
   "execution_count": 6,
   "metadata": {},
   "outputs": [],
   "source": [
    "student = (\"Forward\", \"March\", 34, \"Coding\")"
   ]
  },
  {
   "cell_type": "code",
   "execution_count": 7,
   "metadata": {},
   "outputs": [
    {
     "name": "stdout",
     "output_type": "stream",
     "text": [
      "('Forward', 'March', 34, 'Coding')\n"
     ]
    }
   ],
   "source": [
    "print (student)\n"
   ]
  },
  {
   "cell_type": "code",
   "execution_count": 8,
   "metadata": {},
   "outputs": [],
   "source": [
    "first_name, last_name, age, subject=student"
   ]
  },
  {
   "cell_type": "code",
   "execution_count": 11,
   "metadata": {},
   "outputs": [
    {
     "name": "stdout",
     "output_type": "stream",
     "text": [
      "34\n"
     ]
    }
   ],
   "source": [
    "print (age)"
   ]
  },
  {
   "cell_type": "code",
   "execution_count": 12,
   "metadata": {},
   "outputs": [
    {
     "name": "stdout",
     "output_type": "stream",
     "text": [
      "student is an adult\n"
     ]
    }
   ],
   "source": [
    "if age>=18:\n",
    "  print (\"student is an adult\")\n",
    "else: \n",
    "  print (\"student is a minor\")"
   ]
  },
  {
   "cell_type": "code",
   "execution_count": 13,
   "metadata": {},
   "outputs": [
    {
     "name": "stdout",
     "output_type": "stream",
     "text": [
      "May\n"
     ]
    }
   ],
   "source": [
    "number= 5\n",
    "if number==1:\n",
    "  print (\"January\")\n",
    "elif number ==2:\n",
    "  print (\"February\")\n",
    "elif number ==3:\n",
    "  print (\"March\")\n",
    "elif number ==4:\n",
    "  print (\"April\")\n",
    "elif number ==5:\n",
    "  print (\"May\")\n",
    "elif number == 6:\n",
    "  print (\"June\")\n",
    "elif number ==7:\n",
    "  print (\"July\")\n",
    "elif number == 8:\n",
    "  print (\"August\")\n",
    "elif number == 9:\n",
    "  print (\"September\")\n",
    "elif number == 10:\n",
    "  print (\"October\")\n",
    "elif number == 11:\n",
    "  print (\"November\")\n",
    "elif number == 12:\n",
    "  print (\"December\")\n",
    "  \n",
    "\n",
    "\n",
    "\n"
   ]
  },
  {
   "cell_type": "code",
   "execution_count": 14,
   "metadata": {},
   "outputs": [
    {
     "name": "stdout",
     "output_type": "stream",
     "text": [
      "scalene\n"
     ]
    }
   ],
   "source": [
    "side_one=10 \n",
    "side_two=5\n",
    "side_three=15\n",
    "if side_one== side_two and side_three== side_one and side_two == side_three:\n",
    "  print(\"equilateral triangle\")\n",
    "elif (side_one == side_two and side_two != side_three) or (side_one == side_three and side_two != side_three) or (side_two == side_three and side_two != side_one):\n",
    "  print (\"isosceles\")\n",
    "elif side_one != side_two and side_two != side_three and side_three != side_one:\n",
    "  print (\"scalene\")"
   ]
  },
  {
   "cell_type": "code",
   "execution_count": 15,
   "metadata": {},
   "outputs": [],
   "source": [
    "numbers=[20,25,30,35,40]"
   ]
  },
  {
   "cell_type": "code",
   "execution_count": 16,
   "metadata": {},
   "outputs": [],
   "source": [
    "even_squares=[i*i for i in numbers if i%2==0]"
   ]
  },
  {
   "cell_type": "code",
   "execution_count": 17,
   "metadata": {},
   "outputs": [],
   "source": [
    "odd_cubes=[i*i*i for i in numbers if i%2==1]"
   ]
  },
  {
   "cell_type": "code",
   "execution_count": null,
   "metadata": {},
   "outputs": [],
   "source": []
  }
 ],
 "metadata": {
  "kernelspec": {
   "display_name": "Python 3",
   "language": "python",
   "name": "python3"
  },
  "language_info": {
   "codemirror_mode": {
    "name": "ipython",
    "version": 3
   },
   "file_extension": ".py",
   "mimetype": "text/x-python",
   "name": "python",
   "nbconvert_exporter": "python",
   "pygments_lexer": "ipython3",
   "version": "3.9.6"
  }
 },
 "nbformat": 4,
 "nbformat_minor": 2
}
